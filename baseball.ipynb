{
 "cells": [
  {
   "attachments": {},
   "cell_type": "markdown",
   "id": "d0090ee6",
   "metadata": {},
   "source": [
    "# Baseball Pitch Type Prediction"
   ]
  },
  {
   "attachments": {},
   "cell_type": "markdown",
   "id": "5e512749",
   "metadata": {},
   "source": [
    "    Living in Houston, it would be sacreligious for me to not be a huge fan of baseball and the Hosuton Astros. For years, I've cheered, cried, and laughed as the Astros went from a pretty bad team to arguably the best team in the league (no matter what the Yankees say!). We acquired some of the best batters in the league as well as one of the greatest pitching lineups in MLB history. One of these incredibe pitchers is Houston's favorite closer, Ryan Pressly. He has come to be known as the ninth inning pitcher who never lets up a run, which is why I want to attempt to make a predictive algorithm that can determine what pitch Pressly would throw based on the status of the game at the time (ie. the nubmers of balls and strikes, the previous pitch, etc.)"
   ]
  },
  {
   "cell_type": "code",
   "execution_count": null,
   "id": "e3684190",
   "metadata": {},
   "outputs": [],
   "source": [
    "#importing some necessary libraries\n",
    "from sklearn.ensemble import RandomForestClassifier\n",
    "from sklearn.model_selection import train_test_split\n",
    "from sklearn import svm\n",
    "from sklearn.metrics import accuracy_score\n",
    "from sklearn.metrics import f1_score\n",
    "import pybaseball as pb\n",
    "import numpy as np"
   ]
  },
  {
   "cell_type": "code",
   "execution_count": null,
   "id": "dac4273c",
   "metadata": {},
   "outputs": [],
   "source": [
    "#getting the pitching information for all of Pressly's games for the 2022 season\n",
    "raw_data = pb.statcast_pitcher('2022-04-07', '2022-10-05', player_id = 519151)\n",
    "raw_data.info()"
   ]
  },
  {
   "attachments": {},
   "cell_type": "markdown",
   "id": "c295fc83",
   "metadata": {},
   "source": [
    "After looking at the different types of data available when getting the pitching information, I racked my brain to figure out what factors would be seemingly important to a pitcher in the short time frame they have between pitches. Obviously, the count (how many balls and strikes there are) is something considered by the pitcher. Additionally, the handedness of the batter (right or left handed) would change the type of pitch a pitcher tends to use. Maybe the pitch number for each at-bat will affect the pitcher's decision? One thing that I wasn't sure about was the last pitch and second to last pitch type; perhaps that might impact the pitcher's choice? Well, to test these theories, let's first do a bit of feature engineering and combine all the features into a singular, organized dataframe."
   ]
  },
  {
   "cell_type": "code",
   "execution_count": null,
   "id": "46538e74",
   "metadata": {},
   "outputs": [],
   "source": [
    "#using the pitch type data to make the last pitch and second to last pitch features\n",
    "last_pitch = raw_data.get([\"pitch_name\"]).shift(-1)\n",
    "last_pitch = last_pitch.mask(last_pitch.eq('None')).dropna()\n",
    "second_last = raw_data.get([\"pitch_name\"]).shift(-2)\n",
    "second_last = second_last.mask(second_last.eq('None')).dropna()"
   ]
  },
  {
   "cell_type": "code",
   "execution_count": null,
   "id": "5e2933c9",
   "metadata": {},
   "outputs": [],
   "source": [
    "#creating the organized dataframe\n",
    "df = raw_data.get([\"game_date\", \"pitch_name\", \"pitch_number\", \"strikes\", \"balls\", \"stand\"])\n",
    "df.insert(3, \"last_pitch\", last_pitch)\n",
    "df.insert(4, \"second_last\", second_last)\n",
    "\n",
    "df"
   ]
  },
  {
   "attachments": {},
   "cell_type": "markdown",
   "id": "00331a9d",
   "metadata": {},
   "source": [
    "Alright, now that I have my organized dataframe of my features and labels, I need to encode all of it in order for it to, you know, actually work with the algorithms! First however, I removed all of the data that is the first or second pitch of the at-bat. My reasoning behind this is that at bats act as a sort of refresh for pitchers - a clean slate, if you will. Additionally, by shifting the data up by 1 and 2 for the last and second to last picth data respectively, for the first and second pitch of a game, the data would say that the last pitch and second last pitch would be from the last game, which just doesn't make sense! Finally, I'm going to combine two of the label types, Curveballs and Sliders, for two reasons. One, when grouping pitch types, people usually combine them as one category - Breaking Balls. The second reason is more important in terms of practicality; the pitches that are most important for batters to recognize (in order for them to hit it well) are fastballs and changeups, which means that differentiating between fastballs, changeups, and breaking balls is the most practical setup for this algorithm."
   ]
  },
  {
   "cell_type": "code",
   "execution_count": null,
   "id": "1644f8f2",
   "metadata": {},
   "outputs": [],
   "source": [
    "#combining the curveballs and sliders\n",
    "\n",
    "df = df.mask(df['pitch_number'].eq(1)).dropna()\n",
    "df = df.mask(df['pitch_number'].eq(2)).dropna()\n",
    "\n",
    "df['pitch_name'] = df['pitch_name'].replace('4-Seam Fastball', 'fast')\n",
    "df['pitch_name'] = df['pitch_name'].replace(['Curveball', 'Slider'], 'breaking')\n",
    "\n",
    "\n",
    "df['last_pitch'] = df['last_pitch'].replace('4-Seam Fastball', 'fast')\n",
    "df['last_pitch'] = df['last_pitch'].replace(['Curveball', 'Slider'], 'breaking')\n",
    "\n",
    "df['second_last'] = df['second_last'].replace('4-Seam Fastball', 'fast')\n",
    "df['second_last'] = df['second_last'].replace(['Curveball', 'Slider'], 'breaking')\n",
    "\n",
    "df"
   ]
  },
  {
   "cell_type": "code",
   "execution_count": null,
   "id": "7bcc9581",
   "metadata": {},
   "outputs": [],
   "source": [
    "#encoding yayyy woo hoo\n",
    "\n",
    "df[\"pitch_name\"] = df[\"pitch_name\"].astype('category')\n",
    "df[\"pitch_name\"] = df[\"pitch_name\"].cat.codes\n",
    "\n",
    "df[\"last_pitch\"] = df[\"last_pitch\"].astype('category')\n",
    "df[\"last_pitch\"] = df[\"last_pitch\"].cat.codes\n",
    "\n",
    "df[\"second_last\"] = df[\"second_last\"].astype('category')\n",
    "df[\"second_last\"] = df[\"second_last\"].cat.codes\n",
    "\n",
    "df['strikes'] = df['strikes'].astype(int)\n",
    "df['balls'] = df['balls'].astype(int)\n",
    "df['pitch_number'] = df['pitch_number'].astype(int)\n",
    "\n",
    "df['stand'] = df['stand'].astype('category')\n",
    "df['stand'] = df['stand'].cat.codes\n",
    "\n",
    "df = df.drop('game_date', 1)\n",
    "\n",
    "df"
   ]
  },
  {
   "cell_type": "code",
   "execution_count": null,
   "id": "bc6b6e53",
   "metadata": {
    "scrolled": true
   },
   "outputs": [],
   "source": [
    "X = np.array(df.drop('pitch_name', 1))\n",
    "y = np.array(df['pitch_name'])\n",
    "\n",
    "X_train, X_test, y_train, y_test = train_test_split(X, y, test_size = 0.25, random_state = 101)"
   ]
  },
  {
   "cell_type": "code",
   "execution_count": null,
   "id": "ee51303c",
   "metadata": {},
   "outputs": [],
   "source": [
    "clf = RandomForestClassifier(n_estimators = 200)\n",
    "clf.fit(X_train, y_train)\n",
    "\n",
    "clf.score(X_test, y_test)"
   ]
  },
  {
   "cell_type": "code",
   "execution_count": null,
   "id": "7c7e8cb6",
   "metadata": {},
   "outputs": [],
   "source": [
    "rbf = svm.SVC(kernel='rbf', gamma=10, C=1).fit(X_train, y_train)\n",
    "poly = svm.SVC(kernel='poly', degree=2, C=0.13).fit(X_train, y_train)"
   ]
  },
  {
   "cell_type": "code",
   "execution_count": null,
   "id": "4a078be1",
   "metadata": {},
   "outputs": [],
   "source": [
    "poly_pred = poly.predict(X_test)\n",
    "rbf_pred = rbf.predict(X_test)"
   ]
  },
  {
   "cell_type": "code",
   "execution_count": null,
   "id": "a2443fb3",
   "metadata": {},
   "outputs": [],
   "source": [
    "poly_accuracy = accuracy_score(y_test, poly_pred)\n",
    "poly_f1 = f1_score(y_test, poly_pred, average='weighted')\n",
    "print('Accuracy (Polynomial Kernel): ', \"%.2f\" % (poly_accuracy*100))\n",
    "print('F1 (Polynomial Kernel): ', \"%.2f\" % (poly_f1*100))\n",
    "\n",
    "rbf_accuracy = accuracy_score(y_test, rbf_pred)\n",
    "rbf_f1 = f1_score(y_test, rbf_pred, average='weighted')\n",
    "print('Accuracy (RBF Kernel): ', \"%.2f\" % (rbf_accuracy*100))\n",
    "print('F1 (RBF Kernel): ', \"%.2f\" % (rbf_f1*100))"
   ]
  }
 ],
 "metadata": {
  "kernelspec": {
   "display_name": "Python 3",
   "language": "python",
   "name": "python3"
  },
  "language_info": {
   "codemirror_mode": {
    "name": "ipython",
    "version": 3
   },
   "file_extension": ".py",
   "mimetype": "text/x-python",
   "name": "python",
   "nbconvert_exporter": "python",
   "pygments_lexer": "ipython3",
   "version": "3.11.1 (tags/v3.11.1:a7a450f, Dec  6 2022, 19:58:39) [MSC v.1934 64 bit (AMD64)]"
  },
  "vscode": {
   "interpreter": {
    "hash": "1272ece3de9fbf74e9b4d505d3b84c912602bb9e47014013db7e900ce64cd352"
   }
  }
 },
 "nbformat": 4,
 "nbformat_minor": 5
}
