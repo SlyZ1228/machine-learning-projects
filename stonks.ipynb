{
 "cells": [
  {
   "cell_type": "markdown",
   "id": "d3bd7d49",
   "metadata": {},
   "source": [
    "# Linear Regression Stock Predictor"
   ]
  },
  {
   "cell_type": "markdown",
   "id": "f7bc386b",
   "metadata": {},
   "source": [
    "This is a simple application of the basic linear regression model using sklearn."
   ]
  },
  {
   "cell_type": "code",
   "execution_count": 3,
   "id": "3b392577",
   "metadata": {},
   "outputs": [],
   "source": [
    "import quandl, math, datetime\n",
    "import pandas as pd\n",
    "import numpy as np\n",
    "from sklearn import preprocessing, svm\n",
    "from sklearn.model_selection import train_test_split\n",
    "from sklearn.linear_model import LinearRegression\n",
    "import matplotlib.pyplot as plt\n",
    "from matplotlib import style"
   ]
  },
  {
   "cell_type": "markdown",
   "id": "02ffef69",
   "metadata": {},
   "source": [
    "In this project, I'm using Quandl to get all the historical stock price data for a specified company (in this case AMD) that is available. So let's get that data and then start looking at some of the features in the raw dataset."
   ]
  },
  {
   "cell_type": "code",
   "execution_count": 7,
   "id": "714d4309",
   "metadata": {
    "scrolled": true
   },
   "outputs": [
    {
     "name": "stdout",
     "output_type": "stream",
     "text": [
      "             Open   High    Low  Close    Volume  Ex-Dividend  Split Ratio  \\\n",
      "Date                                                                         \n",
      "1983-03-21  35.88  36.13  35.25  36.00  127700.0          0.0          1.0   \n",
      "1983-03-22  34.88  35.88  34.00  34.00   82000.0          0.0          1.0   \n",
      "1983-03-23  34.00  35.25  33.88  34.88  106800.0          0.0          1.0   \n",
      "1983-03-24  34.88  35.13  34.63  35.13   98300.0          0.0          1.0   \n",
      "1983-03-25  35.63  36.25  35.00  35.50   52600.0          0.0          1.0   \n",
      "\n",
      "            Adj. Open  Adj. High  Adj. Low  Adj. Close  Adj. Volume  \n",
      "Date                                                                 \n",
      "1983-03-21   8.967543   9.030026  8.810086    8.997535     510800.0  \n",
      "1983-03-22   8.717612   8.967543  8.497672    8.497672     328000.0  \n",
      "1983-03-23   8.497672   8.810086  8.467680    8.717612     427200.0  \n",
      "1983-03-24   8.717612   8.780094  8.655129    8.780094     393200.0  \n",
      "1983-03-25   8.905060   9.060018  8.747603    8.872569     210400.0  \n"
     ]
    }
   ],
   "source": [
    "style.use('ggplot')\n",
    "quandl.ApiConfig.api_key = 'EZZ4hjPDPh-Z6EAkQ4sW'\n",
    "\n",
    "df = quandl.get('WIKI/AMD')\n",
    "\n",
    "print(df.head())"
   ]
  },
  {
   "cell_type": "markdown",
   "id": "0870ef6b",
   "metadata": {},
   "source": [
    "Looking at the features found in the raw dataset from Quandl, we can see that there are 12 features given. Thinking about what would actually be important in predicting a stock price, we can immediately get rid of the High/Adj. High, Low/ Adj. Low, Volume/Adj. Volume, Ex-Dividend, and Split Ratio features, as they are not the most directly related to how a stock performs."
   ]
  },
  {
   "cell_type": "code",
   "execution_count": 8,
   "id": "ab46d155",
   "metadata": {},
   "outputs": [
    {
     "name": "stdout",
     "output_type": "stream",
     "text": [
      "            Adj. Close    HL_PCT  PCT_change  Adj. Volume\n",
      "Date                                                     \n",
      "1983-03-21    8.997535  0.361111    0.334448     510800.0\n",
      "1983-03-22    8.497672  5.529412   -2.522936     328000.0\n",
      "1983-03-23    8.717612  1.060780    2.588235     427200.0\n",
      "1983-03-24    8.780094  0.000000    0.716743     393200.0\n",
      "1983-03-25    8.872569  2.112676   -0.364861     210400.0\n"
     ]
    }
   ],
   "source": [
    "df = df[['Adj. Open', 'Adj. High', 'Adj. Low', 'Adj. Close', 'Adj. Volume', ]]\n",
    "df[\"HL_PCT\"] = (df['Adj. High'] - df['Adj. Close']) / df['Adj. Close'] * 100.0\n",
    "df[\"PCT_change\"] = (df['Adj. Close'] - df['Adj. Open']) / df['Adj. Open'] * 100.0\n",
    "\n",
    "df = df[['Adj. Close', 'HL_PCT', 'PCT_change', 'Adj. Volume']]\n",
    "\n",
    "print(df.head())"
   ]
  },
  {
   "cell_type": "code",
   "execution_count": 9,
   "id": "998ea30a",
   "metadata": {},
   "outputs": [
    {
     "name": "stdout",
     "output_type": "stream",
     "text": [
      "            Adj. Close    HL_PCT  PCT_change  Adj. Volume     label\n",
      "Date                                                               \n",
      "1983-03-21    8.997535  0.361111    0.334448     510800.0  8.155266\n",
      "1983-03-22    8.497672  5.529412   -2.522936     328000.0  7.872843\n",
      "1983-03-23    8.717612  1.060780    2.588235     427200.0  7.935326\n",
      "1983-03-24    8.780094  0.000000    0.716743     393200.0  8.155266\n",
      "1983-03-25    8.872569  2.112676   -0.364861     210400.0  8.405197\n"
     ]
    }
   ],
   "source": [
    "forecast_col = 'Adj. Close'\n",
    "df.fillna('-99999', inplace=True)\n",
    "\n",
    "forecast_out = int(math.ceil(0.0011 * len(df)))\n",
    "\n",
    "df['label'] = df[forecast_col].shift(-forecast_out)\n",
    "\n",
    "\n",
    "print(df.head())"
   ]
  },
  {
   "cell_type": "code",
   "execution_count": 12,
   "id": "7c43f269",
   "metadata": {},
   "outputs": [
    {
     "name": "stdout",
     "output_type": "stream",
     "text": [
      "8819 8819\n"
     ]
    }
   ],
   "source": [
    "X = np.array(df.drop(columns = 'label'))\n",
    "X = preprocessing.scale(X)\n",
    "X_lately = X[-forecast_out:]\n",
    "X = X[:-forecast_out]\n",
    "df.dropna(inplace=True)\n",
    "y = np.array(df['label'])\n",
    "y = np.array(df['label'])\n",
    "\n",
    "print(len(X), len(y))"
   ]
  },
  {
   "cell_type": "code",
   "execution_count": 13,
   "id": "69157413",
   "metadata": {
    "scrolled": true
   },
   "outputs": [
    {
     "name": "stdout",
     "output_type": "stream",
     "text": [
      "0.9551548739827505\n",
      "10\n"
     ]
    }
   ],
   "source": [
    "X_train, X_test, y_train, y_test = train_test_split(X ,y, test_size=0.2)\n",
    "\n",
    "clf = LinearRegression()\n",
    "clf.fit(X_train, y_train)\n",
    "accuracy = clf.score(X_test, y_test)\n",
    "\n",
    "print(accuracy)\n",
    "print(forecast_out)"
   ]
  },
  {
   "cell_type": "code",
   "execution_count": 14,
   "id": "ced3557b",
   "metadata": {},
   "outputs": [
    {
     "name": "stdout",
     "output_type": "stream",
     "text": [
      "[11.21828196 11.31813124 11.37843339 11.35619931 11.02121377 11.16571286\n",
      " 10.83199958 10.5621284  10.33989621  9.96651497] 0.9551548739827505 10\n"
     ]
    }
   ],
   "source": [
    "forecast_set = clf.predict(X_lately)\n",
    "\n",
    "print(forecast_set, accuracy, forecast_out)"
   ]
  },
  {
   "cell_type": "code",
   "execution_count": 15,
   "id": "a4196300",
   "metadata": {},
   "outputs": [
    {
     "data": {
      "image/png": "[encoded data removed]",
      "text/plain": [
       "<Figure size 640x480 with 1 Axes>"
      ]
     },
     "metadata": {},
     "output_type": "display_data"
    }
   ],
   "source": [
    "df['Forecast'] = np.nan\n",
    "\n",
    "last_date = df.iloc[-1].name\n",
    "last_unix = last_date.timestamp()\n",
    "one_day = 86400\n",
    "next_unix = last_unix + one_day\n",
    "\n",
    "for i in forecast_set:\n",
    "    next_date = datetime.datetime.fromtimestamp(next_unix)\n",
    "    next_unix += one_day\n",
    "    df.loc[next_date] = [np.nan for _ in range (len(df.columns) - 1)] + [i]\n",
    "    \n",
    "df['Adj. Close'].iloc[8790:].plot()\n",
    "df['Forecast'].iloc[8790:].plot()\n",
    "plt.legend(loc=4)\n",
    "plt.xlabel('Date')\n",
    "plt.ylabel('Price')\n",
    "plt.show()"
   ]
  }
 ],
 "metadata": {
  "kernelspec": {
   "display_name": "Python 3",
   "language": "python",
   "name": "python3"
  },
  "language_info": {
   "codemirror_mode": {
    "name": "ipython",
    "version": 3
   },
   "file_extension": ".py",
   "mimetype": "text/x-python",
   "name": "python",
   "nbconvert_exporter": "python",
   "pygments_lexer": "ipython3",
   "version": "3.11.1"
  },
  "vscode": {
   "interpreter": {
    "hash": "1272ece3de9fbf74e9b4d505d3b84c912602bb9e47014013db7e900ce64cd352"
   }
  }
 },
 "nbformat": 4,
 "nbformat_minor": 5
}
