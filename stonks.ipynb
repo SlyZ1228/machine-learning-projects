{
 "cells": [
  {
   "cell_type": "code",
   "execution_count": 1,
   "id": "3b392577",
   "metadata": {},
   "outputs": [],
   "source": [
    "import quandl, math, datetime\n",
    "import pandas as pd\n",
    "import numpy as np\n",
    "from sklearn import preprocessing, svm\n",
    "from sklearn.model_selection import train_test_split\n",
    "from sklearn.linear_model import LinearRegression\n",
    "import matplotlib.pyplot as plt\n",
    "from matplotlib import style"
   ]
  },
  {
   "cell_type": "code",
   "execution_count": 2,
   "id": "714d4309",
   "metadata": {
    "scrolled": true
   },
   "outputs": [
    {
     "name": "stdout",
     "output_type": "stream",
     "text": [
      "             Open   High    Low  Close    Volume  Ex-Dividend  Split Ratio  \\\n",
      "Date                                                                         \n",
      "1983-03-21  35.88  36.13  35.25  36.00  127700.0          0.0          1.0   \n",
      "1983-03-22  34.88  35.88  34.00  34.00   82000.0          0.0          1.0   \n",
      "1983-03-23  34.00  35.25  33.88  34.88  106800.0          0.0          1.0   \n",
      "1983-03-24  34.88  35.13  34.63  35.13   98300.0          0.0          1.0   \n",
      "1983-03-25  35.63  36.25  35.00  35.50   52600.0          0.0          1.0   \n",
      "\n",
      "            Adj. Open  Adj. High  Adj. Low  Adj. Close  Adj. Volume  \n",
      "Date                                                                 \n",
      "1983-03-21   8.967543   9.030026  8.810086    8.997535     510800.0  \n",
      "1983-03-22   8.717612   8.967543  8.497672    8.497672     328000.0  \n",
      "1983-03-23   8.497672   8.810086  8.467680    8.717612     427200.0  \n",
      "1983-03-24   8.717612   8.780094  8.655129    8.780094     393200.0  \n",
      "1983-03-25   8.905060   9.060018  8.747603    8.872569     210400.0  \n"
     ]
    }
   ],
   "source": [
    "style.use('ggplot')\n",
    "\n",
    "df = quandl.get('WIKI/AMD')\n",
    "\n",
    "print(df.head())"
   ]
  },
  {
   "cell_type": "code",
   "execution_count": 3,
   "id": "ab46d155",
   "metadata": {},
   "outputs": [
    {
     "name": "stdout",
     "output_type": "stream",
     "text": [
      "            Adj. Close    HL_PCT  PCT_change  Adj. Volume\n",
      "Date                                                     \n",
      "1983-03-21    8.997535  0.361111    0.334448     510800.0\n",
      "1983-03-22    8.497672  5.529412   -2.522936     328000.0\n",
      "1983-03-23    8.717612  1.060780    2.588235     427200.0\n",
      "1983-03-24    8.780094  0.000000    0.716743     393200.0\n",
      "1983-03-25    8.872569  2.112676   -0.364861     210400.0\n"
     ]
    }
   ],
   "source": [
    "df = df[['Adj. Open', 'Adj. High', 'Adj. Low', 'Adj. Close', 'Adj. Volume', ]]\n",
    "df[\"HL_PCT\"] = (df['Adj. High'] - df['Adj. Close']) / df['Adj. Close'] * 100.0\n",
    "df[\"PCT_change\"] = (df['Adj. Close'] - df['Adj. Open']) / df['Adj. Open'] * 100.0\n",
    "\n",
    "df = df[['Adj. Close', 'HL_PCT', 'PCT_change', 'Adj. Volume']]\n",
    "\n",
    "print(df.head())"
   ]
  },
  {
   "cell_type": "code",
   "execution_count": 4,
   "id": "998ea30a",
   "metadata": {},
   "outputs": [
    {
     "name": "stdout",
     "output_type": "stream",
     "text": [
      "            Adj. Close    HL_PCT  PCT_change  Adj. Volume     label\n",
      "Date                                                               \n",
      "1983-03-21    8.997535  0.361111    0.334448     510800.0  8.155266\n",
      "1983-03-22    8.497672  5.529412   -2.522936     328000.0  7.872843\n",
      "1983-03-23    8.717612  1.060780    2.588235     427200.0  7.935326\n",
      "1983-03-24    8.780094  0.000000    0.716743     393200.0  8.155266\n",
      "1983-03-25    8.872569  2.112676   -0.364861     210400.0  8.405197\n"
     ]
    }
   ],
   "source": [
    "forecast_col = 'Adj. Close'\n",
    "df.fillna('-99999', inplace=True)\n",
    "\n",
    "forecast_out = int(math.ceil(0.0011 * len(df)))\n",
    "\n",
    "df['label'] = df[forecast_col].shift(-forecast_out)\n",
    "\n",
    "\n",
    "print(df.head())"
   ]
  },
  {
   "cell_type": "code",
   "execution_count": 5,
   "id": "7c43f269",
   "metadata": {},
   "outputs": [
    {
     "name": "stdout",
     "output_type": "stream",
     "text": [
      "8819 8819\n"
     ]
    },
    {
     "name": "stderr",
     "output_type": "stream",
     "text": [
      "C:\\Users\\zayan\\AppData\\Local\\Temp\\ipykernel_19168\\1019192577.py:1: FutureWarning: In a future version of pandas all arguments of DataFrame.drop except for the argument 'labels' will be keyword-only.\n",
      "  X = np.array(df.drop(['label'], 1))\n"
     ]
    }
   ],
   "source": [
    "X = np.array(df.drop(['label'], 1))\n",
    "X = preprocessing.scale(X)\n",
    "X_lately = X[-forecast_out:]\n",
    "X = X[:-forecast_out]\n",
    "df.dropna(inplace=True)\n",
    "y = np.array(df['label'])\n",
    "y = np.array(df['label'])\n",
    "\n",
    "print(len(X), len(y))"
   ]
  },
  {
   "cell_type": "code",
   "execution_count": 6,
   "id": "69157413",
   "metadata": {
    "scrolled": true
   },
   "outputs": [
    {
     "name": "stdout",
     "output_type": "stream",
     "text": [
      "0.9556171122646597\n",
      "10\n"
     ]
    }
   ],
   "source": [
    "X_train, X_test, y_train, y_test = train_test_split(X ,y, test_size=0.2)\n",
    "\n",
    "clf = LinearRegression()\n",
    "clf.fit(X_train, y_train)\n",
    "accuracy = clf.score(X_test, y_test)\n",
    "\n",
    "print(accuracy)\n",
    "print(forecast_out)"
   ]
  },
  {
   "cell_type": "code",
   "execution_count": 7,
   "id": "ced3557b",
   "metadata": {},
   "outputs": [
    {
     "name": "stdout",
     "output_type": "stream",
     "text": [
      "[11.24356822 11.3434996  11.39256081 11.36943976 11.03665865 11.18190617\n",
      " 10.84586685 10.57352552 10.35885515  9.9728553 ] 0.9556171122646597 10\n"
     ]
    }
   ],
   "source": [
    "forecast_set = clf.predict(X_lately)\n",
    "\n",
    "print(forecast_set, accuracy, forecast_out)"
   ]
  },
  {
   "cell_type": "code",
   "execution_count": 8,
   "id": "a4196300",
   "metadata": {
    "scrolled": false
   },
   "outputs": [
    {
     "data": {
      "image/png": "[encoded data removed]",
      "text/plain": [
       "<Figure size 640x480 with 1 Axes>"
      ]
     },
     "metadata": {},
     "output_type": "display_data"
    }
   ],
   "source": [
    "df['Forecast'] = np.nan\n",
    "\n",
    "last_date = df.iloc[-1].name\n",
    "last_unix = last_date.timestamp()\n",
    "one_day = 86400\n",
    "next_unix = last_unix + one_day\n",
    "\n",
    "for i in forecast_set:\n",
    "    next_date = datetime.datetime.fromtimestamp(next_unix)\n",
    "    next_unix += one_day\n",
    "    df.loc[next_date] = [np.nan for _ in range (len(df.columns) - 1)] + [i]\n",
    "    \n",
    "df['Adj. Close'].iloc[8790:].plot()\n",
    "df['Forecast'].iloc[8790:].plot()\n",
    "plt.legend(loc=4)\n",
    "plt.xlabel('Date')\n",
    "plt.ylabel('Price')\n",
    "plt.show()"
   ]
  },
  {
   "cell_type": "code",
   "execution_count": null,
   "id": "1c91cf71",
   "metadata": {},
   "outputs": [],
   "source": []
  }
 ],
 "metadata": {
  "kernelspec": {
   "display_name": "Python 3 (ipykernel)",
   "language": "python",
   "name": "python3"
  },
  "language_info": {
   "codemirror_mode": {
    "name": "ipython",
    "version": 3
   },
   "file_extension": ".py",
   "mimetype": "text/x-python",
   "name": "python",
   "nbconvert_exporter": "python",
   "pygments_lexer": "ipython3",
   "version": "3.11.1"
  }
 },
 "nbformat": 4,
 "nbformat_minor": 5
}
