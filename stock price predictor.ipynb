{
 "cells": [
  {
   "attachments": {},
   "cell_type": "markdown",
   "id": "e5e14a6d",
   "metadata": {},
   "source": [
    "#Stock Price Predictor (Using Linear Regression)"
   ]
  },
  {
   "cell_type": "code",
   "execution_count": 1,
   "id": "fa79140c",
   "metadata": {
    "scrolled": true
   },
   "outputs": [],
   "source": [
    "import pandas as pd\n",
    "import numpy as np\n",
    "import yfinance as yf\n",
    "import math, datetime\n",
    "from sklearn import preprocessing\n",
    "from sklearn.model_selection import train_test_split\n",
    "from sklearn.linear_model import LinearRegression\n",
    "import matplotlib.pyplot as plt\n",
    "from matplotlib import style"
   ]
  },
  {
   "cell_type": "code",
   "execution_count": 2,
   "id": "bd976c6a",
   "metadata": {},
   "outputs": [
    {
     "name": "stdout",
     "output_type": "stream",
     "text": [
      "                               Close    HL_PCT  PCT_change      Volume\n",
      "Date                                                                  \n",
      "1983-03-21 00:00:00-05:00   9.000000  0.347222    0.348432    510800.0\n",
      "1983-03-22 00:00:00-05:00   8.500000  5.514706   -2.508961    328000.0\n",
      "1983-03-23 00:00:00-05:00   8.718750  1.075269    2.573529    427200.0\n",
      "1983-03-25 00:00:00-05:00   8.875000  2.112676   -0.350877    210400.0\n",
      "1983-03-28 00:00:00-05:00   8.687500  3.956835   -1.766784    494800.0\n",
      "...                              ...       ...         ...         ...\n",
      "2023-01-23 00:00:00-05:00  76.529999  0.078397    5.967872  84293200.0\n",
      "2023-01-24 00:00:00-05:00  74.699997  1.258370    1.288131  60822600.0\n",
      "2023-01-25 00:00:00-05:00  74.910004  0.280335    2.757205  49932600.0\n",
      "2023-01-26 00:00:00-05:00  75.160004  2.554548   -1.751629  49583900.0\n",
      "2023-01-27 00:00:00-05:00  75.400002  1.777183    2.306655  58066200.0\n",
      "\n",
      "[8721 rows x 4 columns]\n"
     ]
    }
   ],
   "source": [
    "style.use('ggplot')\n",
    "\n",
    "amd = yf.Ticker(\"AMD\")\n",
    "df = amd.history(period=\"max\")\n",
    "\n",
    "df = df[['Open', 'High', 'Low', 'Close', 'Volume']]\n",
    "df = df.mask(df['Open'].eq(0)).dropna()\n",
    "df['HL_PCT'] = (df['High'] - df['Close']) / df['Close'] * 100.0\n",
    "df['PCT_change'] = (df['Close'] - df['Open']) / df['Open'] * 100.0\n",
    "df = df.mask(df['HL_PCT'].eq(0)).dropna()\n",
    "df = df.mask(df['PCT_change'].eq(0)).dropna()\n",
    "\n",
    "df = df[['Close', 'HL_PCT', 'PCT_change', 'Volume']]\n",
    "\n",
    "print(df)"
   ]
  },
  {
   "cell_type": "code",
   "execution_count": 3,
   "id": "810c31c5",
   "metadata": {},
   "outputs": [
    {
     "name": "stdout",
     "output_type": "stream",
     "text": [
      "                               Close    HL_PCT  PCT_change      Volume  \\\n",
      "Date                                                                     \n",
      "1983-03-21 00:00:00-05:00   9.000000  0.347222    0.348432    510800.0   \n",
      "1983-03-22 00:00:00-05:00   8.500000  5.514706   -2.508961    328000.0   \n",
      "1983-03-23 00:00:00-05:00   8.718750  1.075269    2.573529    427200.0   \n",
      "1983-03-25 00:00:00-05:00   8.875000  2.112676   -0.350877    210400.0   \n",
      "1983-03-28 00:00:00-05:00   8.687500  3.956835   -1.766784    494800.0   \n",
      "...                              ...       ...         ...         ...   \n",
      "2023-01-23 00:00:00-05:00  76.529999  0.078397    5.967872  84293200.0   \n",
      "2023-01-24 00:00:00-05:00  74.699997  1.258370    1.288131  60822600.0   \n",
      "2023-01-25 00:00:00-05:00  74.910004  0.280335    2.757205  49932600.0   \n",
      "2023-01-26 00:00:00-05:00  75.160004  2.554548   -1.751629  49583900.0   \n",
      "2023-01-27 00:00:00-05:00  75.400002  1.777183    2.306655  58066200.0   \n",
      "\n",
      "                             label  \n",
      "Date                                \n",
      "1983-03-21 00:00:00-05:00  8.15625  \n",
      "1983-03-22 00:00:00-05:00  7.87500  \n",
      "1983-03-23 00:00:00-05:00  8.40625  \n",
      "1983-03-25 00:00:00-05:00  8.43750  \n",
      "1983-03-28 00:00:00-05:00  8.96875  \n",
      "...                            ...  \n",
      "2023-01-23 00:00:00-05:00      NaN  \n",
      "2023-01-24 00:00:00-05:00      NaN  \n",
      "2023-01-25 00:00:00-05:00      NaN  \n",
      "2023-01-26 00:00:00-05:00      NaN  \n",
      "2023-01-27 00:00:00-05:00      NaN  \n",
      "\n",
      "[8721 rows x 5 columns]\n"
     ]
    }
   ],
   "source": [
    "forecast_col = 'Close'\n",
    "df.fillna(-99999, inplace=True)\n",
    "\n",
    "forecast_out = int(math.ceil(0.001*len(df)))\n",
    "\n",
    "df['label'] = df[forecast_col].shift(-forecast_out)\n",
    "\n",
    "print(df)"
   ]
  }
 ],
 "metadata": {
  "kernelspec": {
   "display_name": "Python 3 (ipykernel)",
   "language": "python",
   "name": "python3"
  },
  "language_info": {
   "codemirror_mode": {
    "name": "ipython",
    "version": 3
   },
   "file_extension": ".py",
   "mimetype": "text/x-python",
   "name": "python",
   "nbconvert_exporter": "python",
   "pygments_lexer": "ipython3",
   "version": "3.11.1"
  },
  "vscode": {
   "interpreter": {
    "hash": "1272ece3de9fbf74e9b4d505d3b84c912602bb9e47014013db7e900ce64cd352"
   }
  }
 },
 "nbformat": 4,
 "nbformat_minor": 5
}
