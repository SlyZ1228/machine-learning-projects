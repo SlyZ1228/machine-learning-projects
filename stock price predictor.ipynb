{
 "cells": [
  {
   "cell_type": "markdown",
   "id": "e5e14a6d",
   "metadata": {},
   "source": [
    "#Stock Price Predictor (Using Linear Regression)"
   ]
  },
  {
   "cell_type": "code",
   "execution_count": 15,
   "id": "fa79140c",
   "metadata": {
    "scrolled": true
   },
   "outputs": [],
   "source": [
    "import pandas as pd\n",
    "import yfinance as yf\n",
    "import math"
   ]
  },
  {
   "cell_type": "code",
   "execution_count": 16,
   "id": "bd976c6a",
   "metadata": {},
   "outputs": [
    {
     "name": "stdout",
     "output_type": "stream",
     "text": [
      "                               Close    HL_PCT  PCT_change      Volume\n",
      "Date                                                                  \n",
      "1983-03-21 00:00:00-05:00   9.000000  0.347222    0.348432    510800.0\n",
      "1983-03-22 00:00:00-05:00   8.500000  5.514706   -2.508961    328000.0\n",
      "1983-03-23 00:00:00-05:00   8.718750  1.075269    2.573529    427200.0\n",
      "1983-03-25 00:00:00-05:00   8.875000  2.112676   -0.350877    210400.0\n",
      "1983-03-28 00:00:00-05:00   8.687500  3.956835   -1.766784    494800.0\n",
      "...                              ...       ...         ...         ...\n",
      "2023-01-19 00:00:00-05:00  67.709999  2.274407   -1.826884  47189900.0\n",
      "2023-01-20 00:00:00-05:00  70.070000  0.085625    3.028963  47673200.0\n",
      "2023-01-23 00:00:00-05:00  76.529999  0.078397    5.967872  84293200.0\n",
      "2023-01-24 00:00:00-05:00  74.699997  1.258370    1.288131  60822600.0\n",
      "2023-01-25 00:00:00-05:00  74.910004  0.280335    2.757205  49729434.0\n",
      "\n",
      "[8719 rows x 4 columns]\n"
     ]
    }
   ],
   "source": [
    "amd = yf.Ticker(\"AMD\")\n",
    "df = amd.history(period=\"max\")\n",
    "\n",
    "df = df[['Open', 'High', 'Low', 'Close', 'Volume']]\n",
    "df = df.mask(df['Open'].eq(0)).dropna()\n",
    "df['HL_PCT'] = (df['High'] - df['Close']) / df['Close'] * 100.0\n",
    "df['PCT_change'] = (df['Close'] - df['Open']) / df['Open'] * 100.0\n",
    "df = df.mask(df['HL_PCT'].eq(0)).dropna()\n",
    "df = df.mask(df['PCT_change'].eq(0)).dropna()\n",
    "\n",
    "df = df[['Close', 'HL_PCT', 'PCT_change', 'Volume']]\n",
    "\n",
    "print(df)"
   ]
  },
  {
   "cell_type": "code",
   "execution_count": 25,
   "id": "810c31c5",
   "metadata": {},
   "outputs": [
    {
     "name": "stdout",
     "output_type": "stream",
     "text": [
      "                             Close    HL_PCT  PCT_change      Volume    label\n",
      "Date                                                                         \n",
      "1983-03-21 00:00:00-05:00  9.00000  0.347222    0.348432    510800.0  14.5000\n",
      "1983-03-22 00:00:00-05:00  8.50000  5.514706   -2.508961    328000.0  13.4375\n",
      "1983-03-23 00:00:00-05:00  8.71875  1.075269    2.573529    427200.0  13.7500\n",
      "1983-03-25 00:00:00-05:00  8.87500  2.112676   -0.350877    210400.0  13.5000\n",
      "1983-03-28 00:00:00-05:00  8.68750  3.956835   -1.766784    494800.0  14.0000\n",
      "...                            ...       ...         ...         ...      ...\n",
      "2010-03-22 00:00:00-04:00  9.31000  0.107404    4.489344  15101100.0      NaN\n",
      "2010-03-23 00:00:00-04:00  9.45000  0.423280    1.177726  10623200.0      NaN\n",
      "2010-03-24 00:00:00-04:00  9.23000  1.625142   -1.599153  12096100.0      NaN\n",
      "2010-03-25 00:00:00-04:00  9.03000  4.540419   -3.422467  15824100.0      NaN\n",
      "2010-03-26 00:00:00-04:00  9.02000  1.884691   -0.987917  12158100.0      NaN\n",
      "\n",
      "[5661 rows x 5 columns]\n"
     ]
    }
   ],
   "source": [
    "forecast_col = 'Close'\n",
    "df.fillna(-99999, inplace=True)\n",
    "\n",
    "forecast_out = int(math.ceil(0.1*len(df)))\n",
    "\n",
    "df['label'] = df[forecast_col].shift(-forecast_out)\n",
    "#df.dropna(inplace=True)\n",
    "\n",
    "print(df)"
   ]
  },
  {
   "cell_type": "code",
   "execution_count": null,
   "id": "92abcd4a",
   "metadata": {},
   "outputs": [],
   "source": []
  }
 ],
 "metadata": {
  "kernelspec": {
   "display_name": "Python 3 (ipykernel)",
   "language": "python",
   "name": "python3"
  },
  "language_info": {
   "codemirror_mode": {
    "name": "ipython",
    "version": 3
   },
   "file_extension": ".py",
   "mimetype": "text/x-python",
   "name": "python",
   "nbconvert_exporter": "python",
   "pygments_lexer": "ipython3",
   "version": "3.11.1 (tags/v3.11.1:a7a450f, Dec  6 2022, 19:58:39) [MSC v.1934 64 bit (AMD64)]"
  },
  "vscode": {
   "interpreter": {
    "hash": "1272ece3de9fbf74e9b4d505d3b84c912602bb9e47014013db7e900ce64cd352"
   }
  }
 },
 "nbformat": 4,
 "nbformat_minor": 5
}
